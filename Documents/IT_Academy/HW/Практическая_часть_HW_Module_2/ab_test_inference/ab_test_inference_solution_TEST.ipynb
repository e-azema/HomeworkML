{
 "cells": [
  {
   "cell_type": "code",
   "execution_count": 3,
   "metadata": {
    "pycharm": {
     "name": "#%%\n"
    }
   },
   "outputs": [],
   "source": [
    "# Импортируем библиотеки\n",
    "import numpy as np\n",
    "import pandas as pd\n",
    "import scipy.stats as stats\n",
    "import statsmodels.stats.api as sms\n",
    "import matplotlib as mpl\n",
    "import matplotlib.pyplot as plt\n",
    "import seaborn as sns\n",
    "from math import ceil\n",
    "\n",
    "# Настройки отображения графиков\n",
    "%matplotlib inline\n",
    "# Стили графиков -> обращайтесь в документацию по seaborn https://seaborn.pydata.org/generated/seaborn.set_style.html\n",
    "plt.style.use('seaborn-whitegrid')\n",
    "font = {'family' : 'DejaVu Sans',\n",
    "        'weight' : 'bold',\n",
    "        'size'   : 14}\n",
    "mpl.rc('font', **font)"
   ]
  },
  {
   "cell_type": "code",
   "execution_count": 4,
   "metadata": {},
   "outputs": [
    {
     "name": "stdout",
     "output_type": "stream",
     "text": [
      "Для каждой группы нам необходимо не меньше  4720  наблюдений\n"
     ]
    }
   ],
   "source": [
    "# Считаем размер эффекта -> https://www.statsmodels.org/dev/generated/statsmodels.stats.proportion.proportion_effectsize.html\n",
    "effect_size = sms.proportion_effectsize(0.13, 0.15)\n",
    "# Cчитаем необходимый размер выборки -> https://www.statsmodels.org/dev/generated/statsmodels.stats.power.NormalIndPower.html?highlight=normalindpower\n",
    "# https://www.statsmodels.org/dev/generated/statsmodels.stats.power.NormalIndPower.solve_power.html#statsmodels.stats.power.NormalIndPower.solve_power\n",
    "required_n = sms.NormalIndPower().solve_power(effect_size, power=0.8, alpha=0.05, ratio=1) # Calculating sample size needed\n",
    "# Округляем до ближайшего целого\n",
    "required_n = ceil(required_n)\n",
    "print(\"Для каждой группы нам необходимо не меньше \",required_n, \" наблюдений\")"
   ]
  },
  {
   "cell_type": "code",
   "execution_count": 5,
   "metadata": {},
   "outputs": [
    {
     "data": {
      "text/html": [
       "<div>\n",
       "<style scoped>\n",
       "    .dataframe tbody tr th:only-of-type {\n",
       "        vertical-align: middle;\n",
       "    }\n",
       "\n",
       "    .dataframe tbody tr th {\n",
       "        vertical-align: top;\n",
       "    }\n",
       "\n",
       "    .dataframe thead th {\n",
       "        text-align: right;\n",
       "    }\n",
       "</style>\n",
       "<table border=\"1\" class=\"dataframe\">\n",
       "  <thead>\n",
       "    <tr style=\"text-align: right;\">\n",
       "      <th></th>\n",
       "      <th>user_id</th>\n",
       "      <th>timestamp</th>\n",
       "      <th>group</th>\n",
       "      <th>variants</th>\n",
       "      <th>converted</th>\n",
       "      <th>location</th>\n",
       "      <th>age_group</th>\n",
       "      <th>user_type</th>\n",
       "    </tr>\n",
       "  </thead>\n",
       "  <tbody>\n",
       "    <tr>\n",
       "      <th>0</th>\n",
       "      <td>9109b0dc-d393-497f-8d63-ba9a25dd16b4</td>\n",
       "      <td>2022-05-21 22:11:48.556739</td>\n",
       "      <td>control</td>\n",
       "      <td>standard</td>\n",
       "      <td>0</td>\n",
       "      <td>United Kingdom</td>\n",
       "      <td>18-25</td>\n",
       "      <td>registered_user</td>\n",
       "    </tr>\n",
       "    <tr>\n",
       "      <th>1</th>\n",
       "      <td>2430c3d2-f75b-4b31-8271-51b6a76c2652</td>\n",
       "      <td>2022-05-12 08:01:45.159739</td>\n",
       "      <td>control</td>\n",
       "      <td>standard</td>\n",
       "      <td>0</td>\n",
       "      <td>United Kingdom</td>\n",
       "      <td>42-49</td>\n",
       "      <td>registered_user</td>\n",
       "    </tr>\n",
       "    <tr>\n",
       "      <th>2</th>\n",
       "      <td>44788c4e-8dd2-4fad-b986-75e76f4adb64</td>\n",
       "      <td>2022-05-11 16:55:06.154213</td>\n",
       "      <td>treatment</td>\n",
       "      <td>svm_ensemble_v_1_22</td>\n",
       "      <td>0</td>\n",
       "      <td>United Kingdom</td>\n",
       "      <td>26-33</td>\n",
       "      <td>new_user</td>\n",
       "    </tr>\n",
       "    <tr>\n",
       "      <th>3</th>\n",
       "      <td>4699a417-506d-41b8-a354-6af6ad576963</td>\n",
       "      <td>2022-05-08 18:28:03.143765</td>\n",
       "      <td>treatment</td>\n",
       "      <td>svm_ensemble_v_1_22</td>\n",
       "      <td>0</td>\n",
       "      <td>United Kingdom</td>\n",
       "      <td>42-49</td>\n",
       "      <td>registered_user</td>\n",
       "    </tr>\n",
       "    <tr>\n",
       "      <th>4</th>\n",
       "      <td>304b0d28-bcdf-401a-9dff-66230d3ba0bc</td>\n",
       "      <td>2022-05-21 01:52:26.210827</td>\n",
       "      <td>control</td>\n",
       "      <td>standard</td>\n",
       "      <td>1</td>\n",
       "      <td>United Kingdom</td>\n",
       "      <td>42-49</td>\n",
       "      <td>registered_user</td>\n",
       "    </tr>\n",
       "    <tr>\n",
       "      <th>5</th>\n",
       "      <td>426f77eb-8739-43b6-999c-aecd14d9f346</td>\n",
       "      <td>2022-05-10 15:20:49.083499</td>\n",
       "      <td>control</td>\n",
       "      <td>standard</td>\n",
       "      <td>0</td>\n",
       "      <td>United Kingdom</td>\n",
       "      <td>42-49</td>\n",
       "      <td>registered_user</td>\n",
       "    </tr>\n",
       "    <tr>\n",
       "      <th>6</th>\n",
       "      <td>aa9d93c5-a18f-444a-a522-7e7145835362</td>\n",
       "      <td>2022-05-19 03:26:46.940749</td>\n",
       "      <td>treatment</td>\n",
       "      <td>svm_ensemble_v_1_22</td>\n",
       "      <td>1</td>\n",
       "      <td>United Kingdom</td>\n",
       "      <td>26-33</td>\n",
       "      <td>registered_user</td>\n",
       "    </tr>\n",
       "    <tr>\n",
       "      <th>7</th>\n",
       "      <td>de214e30-9b8d-44cf-87b1-16917f3e1c89</td>\n",
       "      <td>2022-05-17 01:48:29.539573</td>\n",
       "      <td>control</td>\n",
       "      <td>standard</td>\n",
       "      <td>0</td>\n",
       "      <td>United Kingdom</td>\n",
       "      <td>18-25</td>\n",
       "      <td>registered_user</td>\n",
       "    </tr>\n",
       "    <tr>\n",
       "      <th>8</th>\n",
       "      <td>070f398e-e6bf-43e7-88bb-37eff2cb9212</td>\n",
       "      <td>2022-05-04 17:58:08.979471</td>\n",
       "      <td>treatment</td>\n",
       "      <td>svm_ensemble_v_1_22</td>\n",
       "      <td>1</td>\n",
       "      <td>United Kingdom</td>\n",
       "      <td>18-25</td>\n",
       "      <td>new_user</td>\n",
       "    </tr>\n",
       "    <tr>\n",
       "      <th>9</th>\n",
       "      <td>9cff0b7e-d42b-4508-9fbe-a4e74f7f29c5</td>\n",
       "      <td>2022-05-15 18:11:06.610965</td>\n",
       "      <td>treatment</td>\n",
       "      <td>svm_ensemble_v_1_22</td>\n",
       "      <td>1</td>\n",
       "      <td>United Kingdom</td>\n",
       "      <td>26-33</td>\n",
       "      <td>new_user</td>\n",
       "    </tr>\n",
       "    <tr>\n",
       "      <th>10</th>\n",
       "      <td>63a587c3-d1b6-4e3f-a2de-171462b19476</td>\n",
       "      <td>2022-05-18 05:37:11.527370</td>\n",
       "      <td>treatment</td>\n",
       "      <td>svm_ensemble_v_1_22</td>\n",
       "      <td>0</td>\n",
       "      <td>United Kingdom</td>\n",
       "      <td>58+</td>\n",
       "      <td>registered_user</td>\n",
       "    </tr>\n",
       "    <tr>\n",
       "      <th>11</th>\n",
       "      <td>1cc7ebbb-efb9-43a6-9230-11161ae910ba</td>\n",
       "      <td>2022-05-21 22:37:47.774891</td>\n",
       "      <td>treatment</td>\n",
       "      <td>svm_ensemble_v_1_22</td>\n",
       "      <td>0</td>\n",
       "      <td>United Kingdom</td>\n",
       "      <td>58+</td>\n",
       "      <td>new_user</td>\n",
       "    </tr>\n",
       "    <tr>\n",
       "      <th>12</th>\n",
       "      <td>4ae7128c-0c34-4bf4-a270-011dd78aed63</td>\n",
       "      <td>2022-05-09 06:05:16.222706</td>\n",
       "      <td>treatment</td>\n",
       "      <td>svm_ensemble_v_1_22</td>\n",
       "      <td>0</td>\n",
       "      <td>United Kingdom</td>\n",
       "      <td>34-41</td>\n",
       "      <td>registered_user</td>\n",
       "    </tr>\n",
       "    <tr>\n",
       "      <th>13</th>\n",
       "      <td>8d3953a4-f641-4816-971a-cb28c49ebbe1</td>\n",
       "      <td>2022-05-22 01:31:09.573836</td>\n",
       "      <td>treatment</td>\n",
       "      <td>svm_ensemble_v_1_22</td>\n",
       "      <td>0</td>\n",
       "      <td>United Kingdom</td>\n",
       "      <td>26-33</td>\n",
       "      <td>registered_user</td>\n",
       "    </tr>\n",
       "    <tr>\n",
       "      <th>14</th>\n",
       "      <td>137d7bf0-309c-4aad-ad9e-302a2f45dc70</td>\n",
       "      <td>2022-05-22 11:45:11.327945</td>\n",
       "      <td>treatment</td>\n",
       "      <td>svm_ensemble_v_1_22</td>\n",
       "      <td>0</td>\n",
       "      <td>United Kingdom</td>\n",
       "      <td>50-57</td>\n",
       "      <td>new_user</td>\n",
       "    </tr>\n",
       "  </tbody>\n",
       "</table>\n",
       "</div>"
      ],
      "text/plain": [
       "                                 user_id                   timestamp  \\\n",
       "0   9109b0dc-d393-497f-8d63-ba9a25dd16b4  2022-05-21 22:11:48.556739   \n",
       "1   2430c3d2-f75b-4b31-8271-51b6a76c2652  2022-05-12 08:01:45.159739   \n",
       "2   44788c4e-8dd2-4fad-b986-75e76f4adb64  2022-05-11 16:55:06.154213   \n",
       "3   4699a417-506d-41b8-a354-6af6ad576963  2022-05-08 18:28:03.143765   \n",
       "4   304b0d28-bcdf-401a-9dff-66230d3ba0bc  2022-05-21 01:52:26.210827   \n",
       "5   426f77eb-8739-43b6-999c-aecd14d9f346  2022-05-10 15:20:49.083499   \n",
       "6   aa9d93c5-a18f-444a-a522-7e7145835362  2022-05-19 03:26:46.940749   \n",
       "7   de214e30-9b8d-44cf-87b1-16917f3e1c89  2022-05-17 01:48:29.539573   \n",
       "8   070f398e-e6bf-43e7-88bb-37eff2cb9212  2022-05-04 17:58:08.979471   \n",
       "9   9cff0b7e-d42b-4508-9fbe-a4e74f7f29c5  2022-05-15 18:11:06.610965   \n",
       "10  63a587c3-d1b6-4e3f-a2de-171462b19476  2022-05-18 05:37:11.527370   \n",
       "11  1cc7ebbb-efb9-43a6-9230-11161ae910ba  2022-05-21 22:37:47.774891   \n",
       "12  4ae7128c-0c34-4bf4-a270-011dd78aed63  2022-05-09 06:05:16.222706   \n",
       "13  8d3953a4-f641-4816-971a-cb28c49ebbe1  2022-05-22 01:31:09.573836   \n",
       "14  137d7bf0-309c-4aad-ad9e-302a2f45dc70  2022-05-22 11:45:11.327945   \n",
       "\n",
       "        group             variants  converted        location age_group  \\\n",
       "0     control             standard          0  United Kingdom     18-25   \n",
       "1     control             standard          0  United Kingdom     42-49   \n",
       "2   treatment  svm_ensemble_v_1_22          0  United Kingdom     26-33   \n",
       "3   treatment  svm_ensemble_v_1_22          0  United Kingdom     42-49   \n",
       "4     control             standard          1  United Kingdom     42-49   \n",
       "5     control             standard          0  United Kingdom     42-49   \n",
       "6   treatment  svm_ensemble_v_1_22          1  United Kingdom     26-33   \n",
       "7     control             standard          0  United Kingdom     18-25   \n",
       "8   treatment  svm_ensemble_v_1_22          1  United Kingdom     18-25   \n",
       "9   treatment  svm_ensemble_v_1_22          1  United Kingdom     26-33   \n",
       "10  treatment  svm_ensemble_v_1_22          0  United Kingdom       58+   \n",
       "11  treatment  svm_ensemble_v_1_22          0  United Kingdom       58+   \n",
       "12  treatment  svm_ensemble_v_1_22          0  United Kingdom     34-41   \n",
       "13  treatment  svm_ensemble_v_1_22          0  United Kingdom     26-33   \n",
       "14  treatment  svm_ensemble_v_1_22          0  United Kingdom     50-57   \n",
       "\n",
       "          user_type  \n",
       "0   registered_user  \n",
       "1   registered_user  \n",
       "2          new_user  \n",
       "3   registered_user  \n",
       "4   registered_user  \n",
       "5   registered_user  \n",
       "6   registered_user  \n",
       "7   registered_user  \n",
       "8          new_user  \n",
       "9          new_user  \n",
       "10  registered_user  \n",
       "11         new_user  \n",
       "12  registered_user  \n",
       "13  registered_user  \n",
       "14         new_user  "
      ]
     },
     "execution_count": 5,
     "metadata": {},
     "output_type": "execute_result"
    }
   ],
   "source": [
    "df = pd.read_csv('./ab_test_ensembles.csv')\n",
    "df.head(15)"
   ]
  },
  {
   "cell_type": "code",
   "execution_count": 6,
   "metadata": {},
   "outputs": [
    {
     "name": "stdout",
     "output_type": "stream",
     "text": [
      "<class 'pandas.core.frame.DataFrame'>\n",
      "RangeIndex: 294478 entries, 0 to 294477\n",
      "Data columns (total 8 columns):\n",
      " #   Column     Non-Null Count   Dtype \n",
      "---  ------     --------------   ----- \n",
      " 0   user_id    294478 non-null  object\n",
      " 1   timestamp  294478 non-null  object\n",
      " 2   group      294478 non-null  object\n",
      " 3   variants   294478 non-null  object\n",
      " 4   converted  294478 non-null  int64 \n",
      " 5   location   294478 non-null  object\n",
      " 6   age_group  294478 non-null  object\n",
      " 7   user_type  294478 non-null  object\n",
      "dtypes: int64(1), object(7)\n",
      "memory usage: 18.0+ MB\n"
     ]
    }
   ],
   "source": [
    "df.info()\n"
   ]
  },
  {
   "cell_type": "code",
   "execution_count": 7,
   "metadata": {},
   "outputs": [
    {
     "data": {
      "text/html": [
       "<div>\n",
       "<style scoped>\n",
       "    .dataframe tbody tr th:only-of-type {\n",
       "        vertical-align: middle;\n",
       "    }\n",
       "\n",
       "    .dataframe tbody tr th {\n",
       "        vertical-align: top;\n",
       "    }\n",
       "\n",
       "    .dataframe thead th {\n",
       "        text-align: right;\n",
       "    }\n",
       "</style>\n",
       "<table border=\"1\" class=\"dataframe\">\n",
       "  <thead>\n",
       "    <tr style=\"text-align: right;\">\n",
       "      <th>variants</th>\n",
       "      <th>standard</th>\n",
       "      <th>svm_ensemble_v_1_22</th>\n",
       "    </tr>\n",
       "    <tr>\n",
       "      <th>group</th>\n",
       "      <th></th>\n",
       "      <th></th>\n",
       "    </tr>\n",
       "  </thead>\n",
       "  <tbody>\n",
       "    <tr>\n",
       "      <th>control</th>\n",
       "      <td>145274</td>\n",
       "      <td>1928</td>\n",
       "    </tr>\n",
       "    <tr>\n",
       "      <th>treatment</th>\n",
       "      <td>1965</td>\n",
       "      <td>145311</td>\n",
       "    </tr>\n",
       "  </tbody>\n",
       "</table>\n",
       "</div>"
      ],
      "text/plain": [
       "variants   standard  svm_ensemble_v_1_22\n",
       "group                                   \n",
       "control      145274                 1928\n",
       "treatment      1965               145311"
      ]
     },
     "execution_count": 7,
     "metadata": {},
     "output_type": "execute_result"
    }
   ],
   "source": [
    "# Убедимся, что контрольная группа и испытуемая видят старую страницу и новую -> https://pandas.pydata.org/docs/reference/api/pandas.crosstab.html\n",
    "pd.crosstab(df['group'], df['variants'])"
   ]
  },
  {
   "cell_type": "code",
   "execution_count": 8,
   "metadata": {},
   "outputs": [
    {
     "name": "stdout",
     "output_type": "stream",
     "text": [
      "У нас имеются 0 пользователей, которые не уникальны в нашей выборке.\n"
     ]
    }
   ],
   "source": [
    "sessions = df['user_id'].value_counts(ascending=False)\n",
    "duplicate_users = sessions[sessions > 1].count()\n",
    "print(f\"У нас имеются {duplicate_users} пользователей, которые не уникальны в нашей выборке.\")\n"
   ]
  },
  {
   "cell_type": "code",
   "execution_count": 9,
   "metadata": {},
   "outputs": [],
   "source": [
    "#control_sample = df[df['group'] == 'control'].sample(n = required_n, random_state=42)\n",
    "#treatment_sample = df[df['group'] == 'treatment'].sample(n = required_n, random_state=42)\n",
    "\n",
    "# Сформируем общую случайную выборку\n",
    "#ab_df = pd.concat([control_sample, treatment_sample], axis=0)\n",
    "#ab_df.reset_index(drop=True, inplace=True)\n",
    "#ab_df.head(15)"
   ]
  },
  {
   "cell_type": "code",
   "execution_count": 10,
   "metadata": {},
   "outputs": [],
   "source": [
    "#ab_df.info()\n",
    "#df.info()"
   ]
  },
  {
   "cell_type": "code",
   "execution_count": 11,
   "metadata": {},
   "outputs": [],
   "source": [
    "#ab_df.group.value_counts(normalize=True)\n",
    "#df.group.value_counts(normalize=True)"
   ]
  },
  {
   "cell_type": "code",
   "execution_count": 12,
   "metadata": {},
   "outputs": [
    {
     "data": {
      "text/html": [
       "<div>\n",
       "<style scoped>\n",
       "    .dataframe tbody tr th:only-of-type {\n",
       "        vertical-align: middle;\n",
       "    }\n",
       "\n",
       "    .dataframe tbody tr th {\n",
       "        vertical-align: top;\n",
       "    }\n",
       "\n",
       "    .dataframe thead th {\n",
       "        text-align: right;\n",
       "    }\n",
       "</style>\n",
       "<table border=\"1\" class=\"dataframe\">\n",
       "  <thead>\n",
       "    <tr style=\"text-align: right;\">\n",
       "      <th></th>\n",
       "      <th>CR mean</th>\n",
       "      <th>CR std</th>\n",
       "      <th>CR se</th>\n",
       "    </tr>\n",
       "    <tr>\n",
       "      <th>group</th>\n",
       "      <th></th>\n",
       "      <th></th>\n",
       "      <th></th>\n",
       "    </tr>\n",
       "  </thead>\n",
       "  <tbody>\n",
       "    <tr>\n",
       "      <th>control</th>\n",
       "      <td>0.120399</td>\n",
       "      <td>0.325428</td>\n",
       "      <td>0.000848</td>\n",
       "    </tr>\n",
       "    <tr>\n",
       "      <th>treatment</th>\n",
       "      <td>0.118920</td>\n",
       "      <td>0.323694</td>\n",
       "      <td>0.000843</td>\n",
       "    </tr>\n",
       "  </tbody>\n",
       "</table>\n",
       "</div>"
      ],
      "text/plain": [
       "            CR mean    CR std     CR se\n",
       "group                                  \n",
       "control    0.120399  0.325428  0.000848\n",
       "treatment  0.118920  0.323694  0.000843"
      ]
     },
     "execution_count": 12,
     "metadata": {},
     "output_type": "execute_result"
    }
   ],
   "source": [
    "#conversion_rates = ab_df.groupby('group')['converted']\n",
    "conversion_rates = df.groupby('group')['converted']\n",
    "\n",
    "# Стандартное отклонение для сформированной выборки\n",
    "std_proportion = lambda x: np.std(x, ddof=0)\n",
    "# Стандартная ошибка для сформированной выборки, формулу стандартной ошибки вы знаете из лекций. Забыли - погуглите.\n",
    "se_proportion = lambda x: stats.sem(x, ddof=0)\n",
    "\n",
    "conversion_rates = conversion_rates.agg([np.mean, std_proportion, se_proportion]).rename(columns={'mean':'CR mean', '<lambda_0>':'CR std', '<lambda_1>':'CR se'})\n",
    "conversion_rates"
   ]
  },
  {
   "cell_type": "code",
   "execution_count": 18,
   "metadata": {},
   "outputs": [
    {
     "data": {
      "image/png": "[encoded data removed]",
      "text/plain": [
       "<Figure size 576x432 with 1 Axes>"
      ]
     },
     "metadata": {},
     "output_type": "display_data"
    }
   ],
   "source": [
    "plt.figure(figsize=(8,6));\n",
    "#sns.barplot(x=ab_df['group'], y=ab_df['converted'], ci=False);\n",
    "sns.barplot(x=df['group'], y=df['converted'], ci=False);\n",
    "plt.ylim(0, 0.15);\n",
    "plt.title('Conversion rate by experimental samples', pad=15)\n",
    "plt.xlabel('Group', labelpad=15);\n",
    "plt.ylabel('Converted (proportion)', labelpad=20);\n"
   ]
  },
  {
   "cell_type": "code",
   "execution_count": 17,
   "metadata": {},
   "outputs": [
    {
     "name": "stdout",
     "output_type": "stream",
     "text": [
      "Z-statistic: 1.24\n",
      "p-value: 0.216\n",
      "CI 95% for control group: [0.119, 0.122]\n",
      "CI 95% for treatment group: [0.117, 0.121]\n"
     ]
    }
   ],
   "source": [
    "from statsmodels.stats.proportion import proportions_ztest, proportion_confint\n",
    "\n",
    "#control_results = ab_df[ab_df['group'] == 'control']['converted']\n",
    "#treatment_results = ab_df[ab_df['group'] == 'treatment']['converted']\n",
    "\n",
    "\n",
    "control_results = df[df['group'] == 'control']['converted']\n",
    "treatment_results = df[df['group'] == 'treatment']['converted']\n",
    "\n",
    "\n",
    "n_con = control_results.count()\n",
    "n_treat = treatment_results.count()\n",
    "successes = [control_results.sum(), treatment_results.sum()]\n",
    "nobs = [n_con, n_treat]\n",
    "\n",
    "z_stat, pval = proportions_ztest(successes, nobs=nobs)\n",
    "(lower_con, lower_treat), (upper_con, upper_treat) = proportion_confint(successes, nobs=nobs, alpha=0.05)\n",
    "\n",
    "print(f'Z-statistic: {z_stat:.2f}')\n",
    "print(f'p-value: {pval:.3f}')\n",
    "print(f'CI 95% for control group: [{lower_con:.3f}, {upper_con:.3f}]')\n",
    "print(f'CI 95% for treatment group: [{lower_treat:.3f}, {upper_treat:.3f}]')\n"
   ]
  },
  {
   "cell_type": "code",
   "execution_count": null,
   "metadata": {},
   "outputs": [],
   "source": []
  },
  {
   "cell_type": "markdown",
   "metadata": {},
   "source": [
    "ntcn\n"
   ]
  },
  {
   "cell_type": "raw",
   "metadata": {},
   "source": [
    "jtryirti6r7u"
   ]
  },
  {
   "cell_type": "code",
   "execution_count": 46,
   "metadata": {},
   "outputs": [
    {
     "data": {
      "text/html": [
       "<div>\n",
       "<style scoped>\n",
       "    .dataframe tbody tr th:only-of-type {\n",
       "        vertical-align: middle;\n",
       "    }\n",
       "\n",
       "    .dataframe tbody tr th {\n",
       "        vertical-align: top;\n",
       "    }\n",
       "\n",
       "    .dataframe thead th {\n",
       "        text-align: right;\n",
       "    }\n",
       "</style>\n",
       "<table border=\"1\" class=\"dataframe\">\n",
       "  <thead>\n",
       "    <tr style=\"text-align: right;\">\n",
       "      <th>variants</th>\n",
       "      <th>standard</th>\n",
       "      <th>svm_ensemble_v_1_22</th>\n",
       "    </tr>\n",
       "    <tr>\n",
       "      <th>user_type</th>\n",
       "      <th></th>\n",
       "      <th></th>\n",
       "    </tr>\n",
       "  </thead>\n",
       "  <tbody>\n",
       "    <tr>\n",
       "      <th>new_user</th>\n",
       "      <td>73797</td>\n",
       "      <td>73441</td>\n",
       "    </tr>\n",
       "    <tr>\n",
       "      <th>registered_user</th>\n",
       "      <td>73442</td>\n",
       "      <td>73798</td>\n",
       "    </tr>\n",
       "  </tbody>\n",
       "</table>\n",
       "</div>"
      ],
      "text/plain": [
       "variants         standard  svm_ensemble_v_1_22\n",
       "user_type                                     \n",
       "new_user            73797                73441\n",
       "registered_user     73442                73798"
      ]
     },
     "execution_count": 46,
     "metadata": {},
     "output_type": "execute_result"
    }
   ],
   "source": [
    "pd.crosstab(df['user_type'], df['variants'])"
   ]
  },
  {
   "cell_type": "code",
   "execution_count": 47,
   "metadata": {},
   "outputs": [
    {
     "name": "stdout",
     "output_type": "stream",
     "text": [
      "У нас имеются 0 пользователей, которые не уникальны в нашей выборке.\n"
     ]
    }
   ],
   "source": [
    "sessions = df['user_id'].value_counts(ascending=False)\n",
    "duplicate_users = sessions[sessions > 1].count()\n",
    "print(f\"У нас имеются {duplicate_users} пользователей, которые не уникальны в нашей выборке.\")"
   ]
  },
  {
   "cell_type": "code",
   "execution_count": 48,
   "metadata": {},
   "outputs": [
    {
     "data": {
      "text/plain": [
       "treatment    0.500126\n",
       "control      0.499874\n",
       "Name: group, dtype: float64"
      ]
     },
     "execution_count": 48,
     "metadata": {},
     "output_type": "execute_result"
    }
   ],
   "source": [
    "df.group.value_counts(normalize=True)\n"
   ]
  },
  {
   "cell_type": "code",
   "execution_count": 49,
   "metadata": {},
   "outputs": [
    {
     "data": {
      "text/html": [
       "<div>\n",
       "<style scoped>\n",
       "    .dataframe tbody tr th:only-of-type {\n",
       "        vertical-align: middle;\n",
       "    }\n",
       "\n",
       "    .dataframe tbody tr th {\n",
       "        vertical-align: top;\n",
       "    }\n",
       "\n",
       "    .dataframe thead th {\n",
       "        text-align: right;\n",
       "    }\n",
       "</style>\n",
       "<table border=\"1\" class=\"dataframe\">\n",
       "  <thead>\n",
       "    <tr style=\"text-align: right;\">\n",
       "      <th></th>\n",
       "      <th>CR mean</th>\n",
       "      <th>CR std</th>\n",
       "      <th>CR se</th>\n",
       "    </tr>\n",
       "    <tr>\n",
       "      <th>user_type</th>\n",
       "      <th></th>\n",
       "      <th></th>\n",
       "      <th></th>\n",
       "    </tr>\n",
       "  </thead>\n",
       "  <tbody>\n",
       "    <tr>\n",
       "      <th>new_user</th>\n",
       "      <td>0.119154</td>\n",
       "      <td>0.323970</td>\n",
       "      <td>0.000844</td>\n",
       "    </tr>\n",
       "    <tr>\n",
       "      <th>registered_user</th>\n",
       "      <td>0.120164</td>\n",
       "      <td>0.325154</td>\n",
       "      <td>0.000847</td>\n",
       "    </tr>\n",
       "  </tbody>\n",
       "</table>\n",
       "</div>"
      ],
      "text/plain": [
       "                  CR mean    CR std     CR se\n",
       "user_type                                    \n",
       "new_user         0.119154  0.323970  0.000844\n",
       "registered_user  0.120164  0.325154  0.000847"
      ]
     },
     "execution_count": 49,
     "metadata": {},
     "output_type": "execute_result"
    }
   ],
   "source": [
    "#conversion_rates = ab_df.groupby('group')['converted']\n",
    "conversion_rates = df.groupby('user_type')['converted']\n",
    "\n",
    "# Стандартное отклонение для сформированной выборки\n",
    "std_proportion = lambda x: np.std(x, ddof=0)\n",
    "# Стандартная ошибка для сформированной выборки, формулу стандартной ошибки вы знаете из лекций. Забыли - погуглите.\n",
    "se_proportion = lambda x: stats.sem(x, ddof=0)\n",
    "\n",
    "conversion_rates = conversion_rates.agg([np.mean, std_proportion, se_proportion]).rename(columns={'mean':'CR mean', '<lambda_0>':'CR std', '<lambda_1>':'CR se'})\n",
    "conversion_rates"
   ]
  },
  {
   "cell_type": "code",
   "execution_count": 51,
   "metadata": {},
   "outputs": [
    {
     "data": {
      "image/png": "[encoded data removed]",
      "text/plain": [
       "<Figure size 576x432 with 1 Axes>"
      ]
     },
     "metadata": {},
     "output_type": "display_data"
    }
   ],
   "source": [
    "plt.figure(figsize=(8,6));\n",
    "#sns.barplot(x=ab_df['group'], y=ab_df['converted'], ci=False);\n",
    "sns.barplot(x=ab_df['user_type'], y=df['converted'], ci=False);\n",
    "plt.ylim(0, 0.16);\n",
    "plt.title('Conversion rate by experimental samples', pad=20)\n",
    "plt.xlabel('user_type', labelpad=15);\n",
    "plt.ylabel('Converted (proportion)', labelpad=15);\n"
   ]
  },
  {
   "cell_type": "code",
   "execution_count": 71,
   "metadata": {},
   "outputs": [
    {
     "name": "stdout",
     "output_type": "stream",
     "text": [
      "Z-statistic: 0.84\n",
      "p-value: 0.398\n",
      "CI 95% for registered user: [0.119, 0.122]\n",
      "CI 95% for new user: [0.117, 0.121]\n"
     ]
    }
   ],
   "source": [
    "from statsmodels.stats.proportion import proportions_ztest, proportion_confint\n",
    "\n",
    "#control_results = ab_df[ab_df['group'] == 'control']['converted']\n",
    "#treatment_results = ab_df[ab_df['group'] == 'treatment']['converted']\n",
    "\n",
    "\n",
    "reg_user_results = df[df['user_type'] == 'registered_user']['converted']\n",
    "new_user_results = df[df['user_type'] == 'new_user']['converted']\n",
    "\n",
    "\n",
    "n_reg = reg_user_results.count()\n",
    "n_new = new_user_results.count()\n",
    "successes = [reg_user_results.sum(), new_user_results.sum()]\n",
    "nobs = [n_reg, n_new]\n",
    "\n",
    "z_stat, pval = proportions_ztest(successes, nobs=nobs)\n",
    "(lower_reg, lower_new), (upper_reg, upper_new) = proportion_confint(successes, nobs=nobs, alpha=0.05)\n",
    "\n",
    "print(f'Z-statistic: {z_stat:.2f}')\n",
    "print(f'p-value: {pval:.3f}')\n",
    "print(f'CI 95% for registered user: [{lower_reg:.3f}, {upper_reg:.3f}]')\n",
    "print(f'CI 95% for new user: [{lower_new:.3f}, {upper_new:.3f}]')"
   ]
  },
  {
   "cell_type": "code",
   "execution_count": null,
   "metadata": {},
   "outputs": [],
   "source": []
  }
 ],
 "metadata": {
  "kernelspec": {
   "display_name": "Python 3 (ipykernel)",
   "language": "python",
   "name": "python3"
  },
  "language_info": {
   "codemirror_mode": {
    "name": "ipython",
    "version": 3
   },
   "file_extension": ".py",
   "mimetype": "text/x-python",
   "name": "python",
   "nbconvert_exporter": "python",
   "pygments_lexer": "ipython3",
   "version": "3.10.4"
  }
 },
 "nbformat": 4,
 "nbformat_minor": 1
}
